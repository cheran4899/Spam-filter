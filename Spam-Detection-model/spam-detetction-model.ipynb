{
 "cells": [
  {
   "cell_type": "code",
   "execution_count": 23,
   "metadata": {},
   "outputs": [],
   "source": [
    "import numpy as np \n",
    "import pandas as pd \n",
    "from sklearn.model_selection import train_test_split\n",
    "from sklearn.naive_bayes import MultinomialNB\n",
    "from sklearn.svm import SVC\n",
    "from sklearn.ensemble import RandomForestClassifier\n",
    "from sklearn.metrics import accuracy_score\n",
    "import pickle"
   ]
  },
  {
   "attachments": {},
   "cell_type": "markdown",
   "metadata": {},
   "source": [
    "data_frame = pd.read_csv(\"emails.csv\")\n",
    "data_frame.head()"
   ]
  },
  {
   "cell_type": "code",
   "execution_count": 16,
   "metadata": {},
   "outputs": [
    {
     "data": {
      "text/plain": [
       "3002"
      ]
     },
     "execution_count": 16,
     "metadata": {},
     "output_type": "execute_result"
    }
   ],
   "source": [
    "len(data_frame.columns)"
   ]
  },
  {
   "cell_type": "code",
   "execution_count": 11,
   "metadata": {},
   "outputs": [],
   "source": [
    "X = data_frame.iloc[:,1:3001]"
   ]
  },
  {
   "cell_type": "code",
   "execution_count": 14,
   "metadata": {},
   "outputs": [],
   "source": [
    "Y = data_frame.iloc[:,-1].values\n"
   ]
  },
  {
   "cell_type": "code",
   "execution_count": 15,
   "metadata": {},
   "outputs": [],
   "source": [
    "train_x,test_x,train_y,test_y = train_test_split(X,Y,test_size = 0.25)"
   ]
  },
  {
   "cell_type": "code",
   "execution_count": 28,
   "metadata": {},
   "outputs": [
    {
     "name": "stdout",
     "output_type": "stream",
     "text": [
      "Accuracy Score for Naive Bayes :  0.94276875483372\n"
     ]
    }
   ],
   "source": [
    "mnb = MultinomialNB(alpha=1.9)         # alpha by default is 1. alpha must always be > 0. \n",
    "# alpha is the '1' in the formula for Laplace Smoothing (P(words))\n",
    "mnb.fit(train_x,train_y)\n",
    "y_pred1 = mnb.predict(test_x)\n",
    "print(\"Accuracy Score for Naive Bayes : \", accuracy_score(y_pred1,test_y))\n",
    "\n",
    "pickle.dump(mnb,open(\"multinomialnb\", \"wb\"))\n"
   ]
  },
  {
   "cell_type": "code",
   "execution_count": 31,
   "metadata": {},
   "outputs": [
    {
     "name": "stdout",
     "output_type": "stream",
     "text": [
      "Accuracy Score for SVC :  0.9040989945862336\n"
     ]
    }
   ],
   "source": [
    "svc = SVC(C=1.0,kernel='rbf',gamma='auto')         \n",
    "# C here is the regularization parameter. Here, L2 penalty is used(default). It is the inverse of the strength of regularization.\n",
    "# As C increases, model overfits.\n",
    "# Kernel here is the radial basis function kernel.\n",
    "# gamma (only used for rbf kernel) : As gamma increases, model overfits.\n",
    "svc.fit(train_x,train_y)\n",
    "y_pred2 = svc.predict(test_x)\n",
    "print(\"Accuracy Score for SVC : \", accuracy_score(y_pred2,test_y))\n",
    "pickle.dump(svc,open(\"support-vector-machine\", \"wb\"))"
   ]
  },
  {
   "cell_type": "code",
   "execution_count": 30,
   "metadata": {},
   "outputs": [
    {
     "name": "stdout",
     "output_type": "stream",
     "text": [
      "Accuracy Score of Random Forest Classifier :  0.9706109822119103\n"
     ]
    }
   ],
   "source": [
    "rfc = RandomForestClassifier(n_estimators=100,criterion='gini')\n",
    "# n_estimators = No. of trees in the forest\n",
    "# criterion = basis of making the decision tree split, either on gini impurity('gini'), or on infromation gain('entropy')\n",
    "rfc.fit(train_x,train_y)\n",
    "y_pred3 = rfc.predict(test_x)\n",
    "print(\"Accuracy Score of Random Forest Classifier : \", accuracy_score(y_pred3,test_y))\n",
    "pickle.dump(rfc,open(\"randomforestclassifier\", \"wb\"))"
   ]
  }
 ],
 "metadata": {
  "kernelspec": {
   "display_name": ".venv",
   "language": "python",
   "name": "python3"
  },
  "language_info": {
   "codemirror_mode": {
    "name": "ipython",
    "version": 3
   },
   "file_extension": ".py",
   "mimetype": "text/x-python",
   "name": "python",
   "nbconvert_exporter": "python",
   "pygments_lexer": "ipython3",
   "version": "3.9.6"
  },
  "orig_nbformat": 4
 },
 "nbformat": 4,
 "nbformat_minor": 2
}
